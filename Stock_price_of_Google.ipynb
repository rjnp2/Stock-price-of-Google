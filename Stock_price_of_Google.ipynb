{
  "nbformat": 4,
  "nbformat_minor": 0,
  "metadata": {
    "accelerator": "GPU",
    "colab": {
      "name": "Stock-price-of-Google.ipynb",
      "provenance": [],
      "collapsed_sections": []
    },
    "kernelspec": {
      "display_name": "Python 3",
      "name": "python3"
    }
  },
  "cells": [
    {
      "cell_type": "markdown",
      "metadata": {
        "id": "4kv4lC_omTF8"
      },
      "source": [
        "# Stock price of Google\n",
        "\n",
        "We will make an LSTM that will try to capture the downward and the upward\n",
        "trend of the Google stock price because LSTM is the only powerful model that can do this as it performs way better than the traditional models. Apart from this, we are not going to perform a simple LSTM model. It's going to be super robust with some high-dimensionality, several layers as well as it is going to be a stacked LSTM, and then we will add some dropout regularization to avoid overfitting. Also, we will use the most powerful optimizer that we have in the Keras library.\n",
        "\n"
      ]
    },
    {
      "cell_type": "markdown",
      "metadata": {
        "id": "rF2mkvmYoxYZ"
      },
      "source": [
        "In order to approach this problem, we will train our LSTM model on five years of the Google stock price, which is from the beginning of 2012 to the end of 2016 and then based on this training as well as on the identified correlations or captured by the LSTM of the Google stock price, we will try to predict the first month of 2017. We will try to predict January 2017, and again we are not going to predict exactly the stock price, but we are trying to predict the upward and downward trend of the Google stock price."
      ]
    },
    {
      "cell_type": "markdown",
      "metadata": {
        "id": "KLcQF_VkpZox"
      },
      "source": [
        "## Part1: Data Preprocessing"
      ]
    },
    {
      "cell_type": "code",
      "metadata": {
        "id": "77Ly3fncl_tc"
      },
      "source": [
        "# Importing the libraries  \n",
        "import numpy as np  \n",
        "import matplotlib.pyplot as plt  \n",
        "import pandas as pd  "
      ],
      "execution_count": 2,
      "outputs": []
    },
    {
      "cell_type": "code",
      "metadata": {
        "id": "qjQTSb99rJGC"
      },
      "source": [
        "# Importing the training set  \n",
        "dataset_train = pd.read_csv('/content/data/Google_Stock_Price_Train.csv')  \n",
        "training_set = dataset_train.iloc[:, 1:2].values"
      ],
      "execution_count": 10,
      "outputs": []
    },
    {
      "cell_type": "code",
      "metadata": {
        "colab": {
          "base_uri": "https://localhost:8080/",
          "height": 204
        },
        "id": "wDtpbw_hsDDC",
        "outputId": "1ae6f465-1dbb-4e9b-bc4b-a70aee5bc120"
      },
      "source": [
        "dataset_train.head()"
      ],
      "execution_count": 11,
      "outputs": [
        {
          "output_type": "execute_result",
          "data": {
            "text/html": [
              "<div>\n",
              "<style scoped>\n",
              "    .dataframe tbody tr th:only-of-type {\n",
              "        vertical-align: middle;\n",
              "    }\n",
              "\n",
              "    .dataframe tbody tr th {\n",
              "        vertical-align: top;\n",
              "    }\n",
              "\n",
              "    .dataframe thead th {\n",
              "        text-align: right;\n",
              "    }\n",
              "</style>\n",
              "<table border=\"1\" class=\"dataframe\">\n",
              "  <thead>\n",
              "    <tr style=\"text-align: right;\">\n",
              "      <th></th>\n",
              "      <th>Date</th>\n",
              "      <th>Open</th>\n",
              "      <th>High</th>\n",
              "      <th>Low</th>\n",
              "      <th>Close</th>\n",
              "      <th>Volume</th>\n",
              "    </tr>\n",
              "  </thead>\n",
              "  <tbody>\n",
              "    <tr>\n",
              "      <th>0</th>\n",
              "      <td>1/3/2012</td>\n",
              "      <td>325.25</td>\n",
              "      <td>332.83</td>\n",
              "      <td>324.97</td>\n",
              "      <td>663.59</td>\n",
              "      <td>7,380,500</td>\n",
              "    </tr>\n",
              "    <tr>\n",
              "      <th>1</th>\n",
              "      <td>1/4/2012</td>\n",
              "      <td>331.27</td>\n",
              "      <td>333.87</td>\n",
              "      <td>329.08</td>\n",
              "      <td>666.45</td>\n",
              "      <td>5,749,400</td>\n",
              "    </tr>\n",
              "    <tr>\n",
              "      <th>2</th>\n",
              "      <td>1/5/2012</td>\n",
              "      <td>329.83</td>\n",
              "      <td>330.75</td>\n",
              "      <td>326.89</td>\n",
              "      <td>657.21</td>\n",
              "      <td>6,590,300</td>\n",
              "    </tr>\n",
              "    <tr>\n",
              "      <th>3</th>\n",
              "      <td>1/6/2012</td>\n",
              "      <td>328.34</td>\n",
              "      <td>328.77</td>\n",
              "      <td>323.68</td>\n",
              "      <td>648.24</td>\n",
              "      <td>5,405,900</td>\n",
              "    </tr>\n",
              "    <tr>\n",
              "      <th>4</th>\n",
              "      <td>1/9/2012</td>\n",
              "      <td>322.04</td>\n",
              "      <td>322.29</td>\n",
              "      <td>309.46</td>\n",
              "      <td>620.76</td>\n",
              "      <td>11,688,800</td>\n",
              "    </tr>\n",
              "  </tbody>\n",
              "</table>\n",
              "</div>"
            ],
            "text/plain": [
              "       Date    Open    High     Low   Close      Volume\n",
              "0  1/3/2012  325.25  332.83  324.97  663.59   7,380,500\n",
              "1  1/4/2012  331.27  333.87  329.08  666.45   5,749,400\n",
              "2  1/5/2012  329.83  330.75  326.89  657.21   6,590,300\n",
              "3  1/6/2012  328.34  328.77  323.68  648.24   5,405,900\n",
              "4  1/9/2012  322.04  322.29  309.46  620.76  11,688,800"
            ]
          },
          "metadata": {
            "tags": []
          },
          "execution_count": 11
        }
      ]
    },
    {
      "cell_type": "code",
      "metadata": {
        "colab": {
          "base_uri": "https://localhost:8080/"
        },
        "id": "dwanUk-YsZJK",
        "outputId": "70dc7465-0056-4fff-dfe6-2b083e6c4c92"
      },
      "source": [
        "dataset_train.info()"
      ],
      "execution_count": 12,
      "outputs": [
        {
          "output_type": "stream",
          "text": [
            "<class 'pandas.core.frame.DataFrame'>\n",
            "RangeIndex: 1258 entries, 0 to 1257\n",
            "Data columns (total 6 columns):\n",
            " #   Column  Non-Null Count  Dtype  \n",
            "---  ------  --------------  -----  \n",
            " 0   Date    1258 non-null   object \n",
            " 1   Open    1258 non-null   float64\n",
            " 2   High    1258 non-null   float64\n",
            " 3   Low     1258 non-null   float64\n",
            " 4   Close   1258 non-null   object \n",
            " 5   Volume  1258 non-null   object \n",
            "dtypes: float64(3), object(3)\n",
            "memory usage: 59.1+ KB\n"
          ],
          "name": "stdout"
        }
      ]
    },
    {
      "cell_type": "code",
      "metadata": {
        "colab": {
          "base_uri": "https://localhost:8080/",
          "height": 282
        },
        "id": "HVe5TwkHx8Sm",
        "outputId": "2acbfd2b-086f-4849-f672-18203a7f8e91"
      },
      "source": [
        "plt.plot(training_set)"
      ],
      "execution_count": 13,
      "outputs": [
        {
          "output_type": "execute_result",
          "data": {
            "text/plain": [
              "[<matplotlib.lines.Line2D at 0x7f70414d3690>]"
            ]
          },
          "metadata": {
            "tags": []
          },
          "execution_count": 13
        },
        {
          "output_type": "display_data",
          "data": {
            "image/png": "[encoded data removed]",
            "text/plain": [
              "<Figure size 432x288 with 1 Axes>"
            ]
          },
          "metadata": {
            "tags": [],
            "needs_background": "light"
          }
        }
      ]
    },
    {
      "cell_type": "markdown",
      "metadata": {
        "id": "37W4PKd8tyH3"
      },
      "source": [
        "After this, we will apply the feature scaling to our data to optimize the training process, and feature scaling can be done in two different ways, i.e., standardization and normalization.\n",
        "\n",
        "So, this time is more relevant to use normalization because whenever we build an RNN and especially if there is a sigmoid function as the activation function in the output layer of the recurrent neural network, it is recommended to apply normalization.Here we have made feature_range equals to (0, 1) because if we look at the case of normalization, we will see that all the new scaled stock processes will be between 0 and 1, which is exactly what we want."
      ]
    },
    {
      "cell_type": "code",
      "metadata": {
        "id": "0YKxkIyzsdXh"
      },
      "source": [
        "# Feature Scaling  \n",
        "from sklearn.preprocessing import MinMaxScaler  \n",
        "sc = MinMaxScaler(feature_range = (0, 1))  \n",
        "training_set_scaled = sc.fit_transform(training_set)  "
      ],
      "execution_count": 14,
      "outputs": []
    },
    {
      "cell_type": "markdown",
      "metadata": {
        "id": "JyLVcY72uhBh"
      },
      "source": [
        "In the next step, we will create a specific data structure, which is the most important step of data preprocessing for Recurrent Neural Networks. Basically, we are going to create a data structure specifying what the RNN will need to remember when predicting the next stock price, which is actually called the number of timesteps and it is very important to have a right number of timesteps because the wrong number of timesteps could lead to overfitting or baseless predictions.\n",
        "\n",
        "So, we will be creating 60 timesteps and 1 output, such that 60 timesteps mean that at each time T, the RNN is going to look back at 60 stock prices before time T, i.e., the stock prices between 60 days before time T and time T, and based on the trends, it is capturing during these 60 previous timesteps, it will try to predict the next output. So, 60 timesteps of the past information from which our RNN is going to learn and understand some correlations or some trends, and based on its understanding, it's going to try to predict the next output, i.e., the stock price at time t+1. Also, 60 timesteps refer to 60 previous financial days, and since there are 20 financial days in one month, so 60 timesteps correspond to three months, which means that each day we are going to look at the three previous months to try to predict the stock price the next day.\n",
        "\n",
        "So, the first thing that we need to create two separate entities; the first entity that we will create is X_train, which will be the inputs of the neural network, and the second will be y_train that will contain the output. Basically, for each observation, or we can say for each financial day, X_train will contain 60 previous stock prices before that financial day, and y_train contain the stock price of the next financial day. We will start initializing these two separate entities, i.e., X_train and y_train, as an empty list."
      ]
    },
    {
      "cell_type": "code",
      "metadata": {
        "colab": {
          "base_uri": "https://localhost:8080/"
        },
        "id": "MCJdNXqluosq",
        "outputId": "16b443b7-705b-4741-a91e-511912a0d5b2"
      },
      "source": [
        "# Creating a data structure with 60 timesteps and 1 output  \n",
        "X_train = []  \n",
        "y_train = []  \n",
        "for i in range(60, 1258):  \n",
        "    X_train.append(training_set_scaled[i-60:i, 0])  \n",
        "    y_train.append(training_set_scaled[i, 0])  \n",
        "X_train, y_train = np.array(X_train), np.array(y_train)  \n",
        "\n",
        "print(X_train.shape,y_train.shape)"
      ],
      "execution_count": 15,
      "outputs": [
        {
          "output_type": "stream",
          "text": [
            "(1198, 60) (1198,)\n"
          ],
          "name": "stdout"
        }
      ]
    },
    {
      "cell_type": "code",
      "metadata": {
        "colab": {
          "base_uri": "https://localhost:8080/"
        },
        "id": "Xv-6hxAwv4HY",
        "outputId": "97a48da7-4427-45f6-d11f-62448c659997"
      },
      "source": [
        "X_train[:2]"
      ],
      "execution_count": 16,
      "outputs": [
        {
          "output_type": "execute_result",
          "data": {
            "text/plain": [
              "array([[0.08581368, 0.09701243, 0.09433366, 0.09156187, 0.07984225,\n",
              "        0.0643277 , 0.0585423 , 0.06568569, 0.06109085, 0.06639259,\n",
              "        0.0614257 , 0.07474514, 0.02797827, 0.02379269, 0.02409033,\n",
              "        0.0159238 , 0.01078949, 0.00967334, 0.01642607, 0.02100231,\n",
              "        0.02280676, 0.02273235, 0.02810849, 0.03212665, 0.0433812 ,\n",
              "        0.04475779, 0.04790163, 0.0440695 , 0.04648783, 0.04745517,\n",
              "        0.04873875, 0.03936305, 0.04137213, 0.04034898, 0.04784582,\n",
              "        0.04325099, 0.04356723, 0.04286033, 0.04602277, 0.05398467,\n",
              "        0.05738894, 0.05714711, 0.05569611, 0.04421832, 0.04514845,\n",
              "        0.04605997, 0.04412531, 0.03675869, 0.04486941, 0.05065481,\n",
              "        0.05214302, 0.05612397, 0.05818885, 0.06540665, 0.06882953,\n",
              "        0.07243843, 0.07993526, 0.07846566, 0.08034452, 0.08497656],\n",
              "       [0.09701243, 0.09433366, 0.09156187, 0.07984225, 0.0643277 ,\n",
              "        0.0585423 , 0.06568569, 0.06109085, 0.06639259, 0.0614257 ,\n",
              "        0.07474514, 0.02797827, 0.02379269, 0.02409033, 0.0159238 ,\n",
              "        0.01078949, 0.00967334, 0.01642607, 0.02100231, 0.02280676,\n",
              "        0.02273235, 0.02810849, 0.03212665, 0.0433812 , 0.04475779,\n",
              "        0.04790163, 0.0440695 , 0.04648783, 0.04745517, 0.04873875,\n",
              "        0.03936305, 0.04137213, 0.04034898, 0.04784582, 0.04325099,\n",
              "        0.04356723, 0.04286033, 0.04602277, 0.05398467, 0.05738894,\n",
              "        0.05714711, 0.05569611, 0.04421832, 0.04514845, 0.04605997,\n",
              "        0.04412531, 0.03675869, 0.04486941, 0.05065481, 0.05214302,\n",
              "        0.05612397, 0.05818885, 0.06540665, 0.06882953, 0.07243843,\n",
              "        0.07993526, 0.07846566, 0.08034452, 0.08497656, 0.08627874]])"
            ]
          },
          "metadata": {
            "tags": []
          },
          "execution_count": 16
        }
      ]
    },
    {
      "cell_type": "code",
      "metadata": {
        "colab": {
          "base_uri": "https://localhost:8080/"
        },
        "id": "XRGnv2PFv_yP",
        "outputId": "04af4e80-2656-48af-928a-7de1265c9578"
      },
      "source": [
        "# Reshaping  \n",
        "X_train = np.reshape(X_train, (X_train.shape[0], X_train.shape[1], 1))  \n",
        "\n",
        "print(X_train.shape)"
      ],
      "execution_count": 17,
      "outputs": [
        {
          "output_type": "stream",
          "text": [
            "(1198, 60, 1)\n"
          ],
          "name": "stdout"
        }
      ]
    },
    {
      "cell_type": "markdown",
      "metadata": {
        "id": "G1gQ4HNozn8D"
      },
      "source": [
        "## Part 2 - Building the RNN\n",
        "In the second part, we are going to build the whole architecture of the neural network, a robust architecture, because we are not only going to make a simple LSTM but a stacked LSTM with some dropout regularization to prevent overfitting.\n",
        "\n",
        "So, we will import the Sequential class that will help us in creating the neural network object representing a sequence of layers, but also the Dense class to add the output layer. We will also import the LSTM class to add the LSTM layers and then the Dropout class to add some dropout regularization. This is all that we need to build a powerful RNN."
      ]
    },
    {
      "cell_type": "code",
      "metadata": {
        "id": "t6rwn8P78UVS"
      },
      "source": [
        "# Importing the Keras libraries and packages  \n",
        "from keras.models import Sequential  \n",
        "from keras.layers import Dense , BatchNormalization \n",
        "from keras.layers import LSTM  \n",
        "from keras.layers import Dropout \n",
        "from keras import regularizers,optimizers"
      ],
      "execution_count": 18,
      "outputs": []
    },
    {
      "cell_type": "markdown",
      "metadata": {
        "id": "Am4_PGen8sEm"
      },
      "source": [
        "Next, we will initialize our Recurrent Neural Network as a sequence of layers as opposed to a computational graph. We will use the Sequential class from the Keras to introduce the regressor as a sequence of layers. Regressor is nothing but an object of the sequential class that represents the exact sequence of the layers."
      ]
    },
    {
      "cell_type": "code",
      "metadata": {
        "colab": {
          "base_uri": "https://localhost:8080/"
        },
        "id": "yLpG0v3a82DP",
        "outputId": "03c47d0e-14cc-4429-8c01-93d0efadf8f4"
      },
      "source": [
        "# Initialising the RNN  \n",
        "regressor = Sequential()  \n",
        "\n",
        "# Adding the first LSTM layer and some Dropout regularization  \n",
        "regressor.add(LSTM(units = 50, return_sequences = True, input_shape = (X_train.shape[1], 1)))  \n",
        "regressor.add(Dropout(0.2))  \n",
        "\n",
        "# Adding a second LSTM layer and some Dropout regularization  \n",
        "regressor.add(LSTM(units = 50, return_sequences = True))  \n",
        "regressor.add(Dropout(0.2))  \n",
        "\n",
        "# Adding a third LSTM layer and some Dropout regularization  \n",
        "regressor.add(LSTM(units = 50, return_sequences = True))  \n",
        "regressor.add(Dropout(0.2))  \n",
        "\n",
        "# Adding a fourth LSTM layer and some Dropout regularization  \n",
        "regressor.add(LSTM(units = 50))  \n",
        "regressor.add(Dropout(0.2))  \n",
        "\n",
        "# Adding the output layer  \n",
        "regressor.add(Dense(units = 1))  \n",
        "\n",
        "regressor.summary()"
      ],
      "execution_count": 19,
      "outputs": [
        {
          "output_type": "stream",
          "text": [
            "Model: \"sequential\"\n",
            "_________________________________________________________________\n",
            "Layer (type)                 Output Shape              Param #   \n",
            "=================================================================\n",
            "lstm (LSTM)                  (None, 60, 50)            10400     \n",
            "_________________________________________________________________\n",
            "dropout (Dropout)            (None, 60, 50)            0         \n",
            "_________________________________________________________________\n",
            "lstm_1 (LSTM)                (None, 60, 50)            20200     \n",
            "_________________________________________________________________\n",
            "dropout_1 (Dropout)          (None, 60, 50)            0         \n",
            "_________________________________________________________________\n",
            "lstm_2 (LSTM)                (None, 60, 50)            20200     \n",
            "_________________________________________________________________\n",
            "dropout_2 (Dropout)          (None, 60, 50)            0         \n",
            "_________________________________________________________________\n",
            "lstm_3 (LSTM)                (None, 50)                20200     \n",
            "_________________________________________________________________\n",
            "dropout_3 (Dropout)          (None, 50)                0         \n",
            "_________________________________________________________________\n",
            "dense (Dense)                (None, 1)                 51        \n",
            "=================================================================\n",
            "Total params: 71,051\n",
            "Trainable params: 71,051\n",
            "Non-trainable params: 0\n",
            "_________________________________________________________________\n"
          ],
          "name": "stdout"
        }
      ]
    },
    {
      "cell_type": "markdown",
      "metadata": {
        "id": "VdRiThdD9tPd"
      },
      "source": [
        "Let's compile the RNN with the right optimizer and the right loss function. So, we will start by taking our regressor as we are predicting a continuous value followed by using the compile method, which is another method of a sequential class, and inside the compile method, we will input two arguments, i.e., the optimizer and the loss function.\n",
        "\n",
        "In general, for recurrent neural network, an RMS prop optimizer is recommended, but in our case of a problem, we will be using adam optimizer because it's always a safe choice as it very powerful and always perform some relevant updates of the weights. And the second argument that we will input is the loss function. Since we are not dealing with the classification problem, but the regression problem because we have to predict a continuous value, so this time the loss function is mean_squared_error due to the fact that the error can be measured by the mean of the squared differences between the predictions and targets, i.e., the real values.\n",
        "\n"
      ]
    },
    {
      "cell_type": "code",
      "metadata": {
        "colab": {
          "base_uri": "https://localhost:8080/"
        },
        "id": "IidwrS2T9ld3",
        "outputId": "42b97698-58ab-4272-e6a5-6eb3cf47bcfe"
      },
      "source": [
        "# Compiling the RNN  \n",
        "regressor.compile(optimizer = optimizers.Adam(lr=1e-5), loss = 'mean_absolute_error')  \n",
        "\n",
        "# Fitting the RNN to the Training set  \n",
        "regressor.fit(X_train, y_train, epochs = 100, batch_size = 32, verbose=1)  "
      ],
      "execution_count": 31,
      "outputs": [
        {
          "output_type": "stream",
          "text": [
            "Epoch 1/100\n",
            "38/38 [==============================] - 5s 15ms/step - loss: 0.0218\n",
            "Epoch 2/100\n",
            "38/38 [==============================] - 0s 11ms/step - loss: 0.0216\n",
            "Epoch 3/100\n",
            "38/38 [==============================] - 0s 12ms/step - loss: 0.0218\n",
            "Epoch 4/100\n",
            "38/38 [==============================] - 0s 11ms/step - loss: 0.0217\n",
            "Epoch 5/100\n",
            "38/38 [==============================] - 0s 12ms/step - loss: 0.0213\n",
            "Epoch 6/100\n",
            "38/38 [==============================] - 0s 11ms/step - loss: 0.0228\n",
            "Epoch 7/100\n",
            "38/38 [==============================] - 0s 12ms/step - loss: 0.0207\n",
            "Epoch 8/100\n",
            "38/38 [==============================] - 0s 11ms/step - loss: 0.0206\n",
            "Epoch 9/100\n",
            "38/38 [==============================] - 0s 11ms/step - loss: 0.0200\n",
            "Epoch 10/100\n",
            "38/38 [==============================] - 0s 12ms/step - loss: 0.0202\n",
            "Epoch 11/100\n",
            "38/38 [==============================] - 0s 12ms/step - loss: 0.0220\n",
            "Epoch 12/100\n",
            "38/38 [==============================] - 0s 12ms/step - loss: 0.0207\n",
            "Epoch 13/100\n",
            "38/38 [==============================] - 0s 11ms/step - loss: 0.0216\n",
            "Epoch 14/100\n",
            "38/38 [==============================] - 0s 12ms/step - loss: 0.0214\n",
            "Epoch 15/100\n",
            "38/38 [==============================] - 0s 11ms/step - loss: 0.0204\n",
            "Epoch 16/100\n",
            "38/38 [==============================] - 0s 12ms/step - loss: 0.0217\n",
            "Epoch 17/100\n",
            "38/38 [==============================] - 0s 11ms/step - loss: 0.0213\n",
            "Epoch 18/100\n",
            "38/38 [==============================] - 0s 11ms/step - loss: 0.0214\n",
            "Epoch 19/100\n",
            "38/38 [==============================] - 0s 11ms/step - loss: 0.0205\n",
            "Epoch 20/100\n",
            "38/38 [==============================] - 0s 12ms/step - loss: 0.0220\n",
            "Epoch 21/100\n",
            "38/38 [==============================] - 0s 12ms/step - loss: 0.0205\n",
            "Epoch 22/100\n",
            "38/38 [==============================] - 0s 11ms/step - loss: 0.0208\n",
            "Epoch 23/100\n",
            "38/38 [==============================] - 0s 12ms/step - loss: 0.0206\n",
            "Epoch 24/100\n",
            "38/38 [==============================] - 0s 12ms/step - loss: 0.0218\n",
            "Epoch 25/100\n",
            "38/38 [==============================] - 0s 11ms/step - loss: 0.0213\n",
            "Epoch 26/100\n",
            "38/38 [==============================] - 0s 11ms/step - loss: 0.0213\n",
            "Epoch 27/100\n",
            "38/38 [==============================] - 0s 13ms/step - loss: 0.0207\n",
            "Epoch 28/100\n",
            "38/38 [==============================] - 1s 13ms/step - loss: 0.0210\n",
            "Epoch 29/100\n",
            "38/38 [==============================] - 0s 12ms/step - loss: 0.0207\n",
            "Epoch 30/100\n",
            "38/38 [==============================] - 0s 12ms/step - loss: 0.0212\n",
            "Epoch 31/100\n",
            "38/38 [==============================] - 0s 12ms/step - loss: 0.0214\n",
            "Epoch 32/100\n",
            "38/38 [==============================] - 0s 12ms/step - loss: 0.0205\n",
            "Epoch 33/100\n",
            "38/38 [==============================] - 0s 12ms/step - loss: 0.0215\n",
            "Epoch 34/100\n",
            "38/38 [==============================] - 0s 12ms/step - loss: 0.0214\n",
            "Epoch 35/100\n",
            "38/38 [==============================] - 0s 12ms/step - loss: 0.0189\n",
            "Epoch 36/100\n",
            "38/38 [==============================] - 0s 12ms/step - loss: 0.0216\n",
            "Epoch 37/100\n",
            "38/38 [==============================] - 0s 12ms/step - loss: 0.0211\n",
            "Epoch 38/100\n",
            "38/38 [==============================] - 0s 12ms/step - loss: 0.0236\n",
            "Epoch 39/100\n",
            "38/38 [==============================] - 0s 12ms/step - loss: 0.0204\n",
            "Epoch 40/100\n",
            "38/38 [==============================] - 0s 12ms/step - loss: 0.0203\n",
            "Epoch 41/100\n",
            "38/38 [==============================] - 0s 13ms/step - loss: 0.0216\n",
            "Epoch 42/100\n",
            "38/38 [==============================] - 0s 12ms/step - loss: 0.0207\n",
            "Epoch 43/100\n",
            "38/38 [==============================] - 0s 12ms/step - loss: 0.0205\n",
            "Epoch 44/100\n",
            "38/38 [==============================] - 0s 12ms/step - loss: 0.0212\n",
            "Epoch 45/100\n",
            "38/38 [==============================] - 0s 12ms/step - loss: 0.0211\n",
            "Epoch 46/100\n",
            "38/38 [==============================] - 0s 12ms/step - loss: 0.0217\n",
            "Epoch 47/100\n",
            "38/38 [==============================] - 0s 13ms/step - loss: 0.0215\n",
            "Epoch 48/100\n",
            "38/38 [==============================] - 0s 12ms/step - loss: 0.0216\n",
            "Epoch 49/100\n",
            "38/38 [==============================] - 0s 12ms/step - loss: 0.0212\n",
            "Epoch 50/100\n",
            "38/38 [==============================] - 0s 12ms/step - loss: 0.0215\n",
            "Epoch 51/100\n",
            "38/38 [==============================] - 0s 11ms/step - loss: 0.0216\n",
            "Epoch 52/100\n",
            "38/38 [==============================] - 0s 12ms/step - loss: 0.0202\n",
            "Epoch 53/100\n",
            "38/38 [==============================] - 0s 11ms/step - loss: 0.0212\n",
            "Epoch 54/100\n",
            "38/38 [==============================] - 0s 12ms/step - loss: 0.0214\n",
            "Epoch 55/100\n",
            "38/38 [==============================] - 0s 11ms/step - loss: 0.0218\n",
            "Epoch 56/100\n",
            "38/38 [==============================] - 0s 12ms/step - loss: 0.0201\n",
            "Epoch 57/100\n",
            "38/38 [==============================] - 0s 11ms/step - loss: 0.0204\n",
            "Epoch 58/100\n",
            "38/38 [==============================] - 0s 11ms/step - loss: 0.0210\n",
            "Epoch 59/100\n",
            "38/38 [==============================] - 0s 12ms/step - loss: 0.0217\n",
            "Epoch 60/100\n",
            "38/38 [==============================] - 0s 11ms/step - loss: 0.0205\n",
            "Epoch 61/100\n",
            "38/38 [==============================] - 0s 12ms/step - loss: 0.0216\n",
            "Epoch 62/100\n",
            "38/38 [==============================] - 0s 12ms/step - loss: 0.0209\n",
            "Epoch 63/100\n",
            "38/38 [==============================] - 0s 12ms/step - loss: 0.0206\n",
            "Epoch 64/100\n",
            "38/38 [==============================] - 0s 12ms/step - loss: 0.0223\n",
            "Epoch 65/100\n",
            "38/38 [==============================] - 0s 12ms/step - loss: 0.0202\n",
            "Epoch 66/100\n",
            "38/38 [==============================] - 0s 12ms/step - loss: 0.0215\n",
            "Epoch 67/100\n",
            "38/38 [==============================] - 0s 11ms/step - loss: 0.0212\n",
            "Epoch 68/100\n",
            "38/38 [==============================] - 0s 12ms/step - loss: 0.0237\n",
            "Epoch 69/100\n",
            "38/38 [==============================] - 0s 12ms/step - loss: 0.0216\n",
            "Epoch 70/100\n",
            "38/38 [==============================] - 0s 12ms/step - loss: 0.0213\n",
            "Epoch 71/100\n",
            "38/38 [==============================] - 0s 11ms/step - loss: 0.0199\n",
            "Epoch 72/100\n",
            "38/38 [==============================] - 0s 12ms/step - loss: 0.0214\n",
            "Epoch 73/100\n",
            "38/38 [==============================] - 0s 12ms/step - loss: 0.0192\n",
            "Epoch 74/100\n",
            "38/38 [==============================] - 0s 12ms/step - loss: 0.0210\n",
            "Epoch 75/100\n",
            "38/38 [==============================] - 0s 12ms/step - loss: 0.0202\n",
            "Epoch 76/100\n",
            "38/38 [==============================] - 0s 11ms/step - loss: 0.0224\n",
            "Epoch 77/100\n",
            "38/38 [==============================] - 0s 12ms/step - loss: 0.0206\n",
            "Epoch 78/100\n",
            "38/38 [==============================] - 0s 12ms/step - loss: 0.0207\n",
            "Epoch 79/100\n",
            "38/38 [==============================] - 0s 12ms/step - loss: 0.0206\n",
            "Epoch 80/100\n",
            "38/38 [==============================] - 0s 12ms/step - loss: 0.0204\n",
            "Epoch 81/100\n",
            "38/38 [==============================] - 0s 12ms/step - loss: 0.0203\n",
            "Epoch 82/100\n",
            "38/38 [==============================] - 0s 12ms/step - loss: 0.0215\n",
            "Epoch 83/100\n",
            "38/38 [==============================] - 0s 12ms/step - loss: 0.0214\n",
            "Epoch 84/100\n",
            "38/38 [==============================] - 0s 12ms/step - loss: 0.0216\n",
            "Epoch 85/100\n",
            "38/38 [==============================] - 0s 12ms/step - loss: 0.0207\n",
            "Epoch 86/100\n",
            "38/38 [==============================] - 0s 12ms/step - loss: 0.0213\n",
            "Epoch 87/100\n",
            "38/38 [==============================] - 0s 12ms/step - loss: 0.0208\n",
            "Epoch 88/100\n",
            "38/38 [==============================] - 0s 12ms/step - loss: 0.0215\n",
            "Epoch 89/100\n",
            "38/38 [==============================] - 0s 12ms/step - loss: 0.0219\n",
            "Epoch 90/100\n",
            "38/38 [==============================] - 0s 11ms/step - loss: 0.0206\n",
            "Epoch 91/100\n",
            "38/38 [==============================] - 0s 12ms/step - loss: 0.0212\n",
            "Epoch 92/100\n",
            "38/38 [==============================] - 0s 12ms/step - loss: 0.0208\n",
            "Epoch 93/100\n",
            "38/38 [==============================] - 0s 12ms/step - loss: 0.0200\n",
            "Epoch 94/100\n",
            "38/38 [==============================] - 0s 12ms/step - loss: 0.0216\n",
            "Epoch 95/100\n",
            "38/38 [==============================] - 0s 12ms/step - loss: 0.0221\n",
            "Epoch 96/100\n",
            "38/38 [==============================] - 0s 12ms/step - loss: 0.0200\n",
            "Epoch 97/100\n",
            "38/38 [==============================] - 0s 12ms/step - loss: 0.0188\n",
            "Epoch 98/100\n",
            "38/38 [==============================] - 0s 12ms/step - loss: 0.0206\n",
            "Epoch 99/100\n",
            "38/38 [==============================] - 0s 12ms/step - loss: 0.0193\n",
            "Epoch 100/100\n",
            "38/38 [==============================] - 0s 12ms/step - loss: 0.0219\n"
          ],
          "name": "stdout"
        },
        {
          "output_type": "execute_result",
          "data": {
            "text/plain": [
              "<tensorflow.python.keras.callbacks.History at 0x7f6fb90ba810>"
            ]
          },
          "metadata": {
            "tags": []
          },
          "execution_count": 31
        }
      ]
    },
    {
      "cell_type": "markdown",
      "metadata": {
        "id": "S4Mo2qOT-Lg6"
      },
      "source": [
        "## Part 3 - Making the predictions and visualizing the results\n",
        "First, we will get the real stock price of 2017, then in the second step, we will get the predicted stock price of 2017, and lastly, we will visualize the results. So, in order to get the real stock price of 2017, we will get it from the test set in the CSV file, and therefore we will just do exactly the same as what we did for our training set.\n",
        "\n",
        "We will simply start with creating a data frame by importing the Google_Stock_Price_Test.csv file with the read_csv function by pandas, and then we will select the right column, the open google stock price followed by making it a NumPy array that we will do by replacing the training set by the test set. Since the test set is going to be the real values of the Google stock price in the first month of\n",
        "January 2017, so we will simply replace the training_set by the real_stock_price."
      ]
    },
    {
      "cell_type": "code",
      "metadata": {
        "id": "4rPiF-6U-FI6"
      },
      "source": [
        "# Getting the real stock price of 2017  \n",
        "dataset_test = pd.read_csv('data/Google_Stock_Price_Test.csv')  \n",
        "real_stock_price = dataset_test.iloc[:, 1:2].values  "
      ],
      "execution_count": 22,
      "outputs": []
    },
    {
      "cell_type": "code",
      "metadata": {
        "colab": {
          "base_uri": "https://localhost:8080/"
        },
        "id": "pv41LH_2_TX1",
        "outputId": "611ca492-db3b-4c22-eb13-f7d301aef893"
      },
      "source": [
        "# Getting the predicted stock price of 2017  \n",
        "dataset_total = pd.concat((dataset_train['Open'], dataset_test['Open']), axis = 0) \n",
        "\n",
        "inputs = dataset_total[len(dataset_total) - len(dataset_test) - 60:].values  \n",
        "print(dataset_total.shape)"
      ],
      "execution_count": 29,
      "outputs": [
        {
          "output_type": "stream",
          "text": [
            "(1278,)\n"
          ],
          "name": "stdout"
        }
      ]
    },
    {
      "cell_type": "code",
      "metadata": {
        "id": "UUc8TDMl_gV5"
      },
      "source": [
        "inputs = inputs.reshape(-1,1)  \n",
        "inputs = sc.transform(inputs)  "
      ],
      "execution_count": 25,
      "outputs": []
    },
    {
      "cell_type": "code",
      "metadata": {
        "id": "59zHEjmV_v1F"
      },
      "source": [
        "X_test = []  \n",
        "for i in range(60, 80):  \n",
        "    X_test.append(inputs[i-60:i, 0])  \n",
        "X_test = np.array(X_test)  \n",
        "X_test = np.reshape(X_test, (X_test.shape[0], X_test.shape[1], 1))  "
      ],
      "execution_count": 26,
      "outputs": []
    },
    {
      "cell_type": "code",
      "metadata": {
        "id": "c2rNtwS-_zjJ"
      },
      "source": [
        "predicted_stock_price = regressor.predict(X_test)  \n",
        "predicted_stock_price = sc.inverse_transform(predicted_stock_price)  "
      ],
      "execution_count": 32,
      "outputs": []
    },
    {
      "cell_type": "code",
      "metadata": {
        "colab": {
          "base_uri": "https://localhost:8080/",
          "height": 295
        },
        "id": "Vd0kO0Mn_5RQ",
        "outputId": "e033bc28-eabb-44c9-a47a-e0a20959db0e"
      },
      "source": [
        "# Visualizing the results  \n",
        "plt.plot(real_stock_price, color = 'red', label = 'Real Google Stock Price')  \n",
        "plt.plot(predicted_stock_price, color = 'blue', label = 'Predicted Google Stock Price')  \n",
        "plt.title('Google Stock Price Prediction')  \n",
        "plt.xlabel('Time')  \n",
        "plt.ylabel('Google Stock Price')  \n",
        "plt.legend()  \n",
        "plt.show()  "
      ],
      "execution_count": 33,
      "outputs": [
        {
          "output_type": "display_data",
          "data": {
            "image/png": "[encoded data removed]",
            "text/plain": [
              "<Figure size 432x288 with 1 Axes>"
            ]
          },
          "metadata": {
            "tags": [],
            "needs_background": "light"
          }
        }
      ]
    },
    {
      "cell_type": "markdown",
      "metadata": {
        "id": "VjpjL3Hl_8ev"
      },
      "source": [
        "From the above input, we can see that we have the real Google stock price in red and our predicted Google stock price in blue. We also get a comparison of the real and the predicted Google stock prices for the whole month of January 2017. We have got the real Google stock price from the verified financial sources from the web. However, the predictions are coming from the RNN model that we just implemented.\n",
        "\n",
        "We can see in some parts our predictions are lagging behind the actual values. We can clearly see a big spike, like a stock time singularity, which is not followed by the predictions, and it is completely normal. Out model just lags behind because it cannot react to fast, nonlinear changes."
      ]
    }
  ]
}